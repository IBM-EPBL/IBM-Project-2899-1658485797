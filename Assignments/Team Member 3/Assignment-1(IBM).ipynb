{
 "cells": [
  {
   "cell_type": "code",
   "execution_count": null,
   "id": "2cf6ed83",
   "metadata": {},
   "outputs": [],
   "source": [
    "## 1. Split this string"
   ]
  },
  {
   "cell_type": "code",
   "execution_count": 26,
   "id": "f21c2d5c",
   "metadata": {},
   "outputs": [],
   "source": [
    "s = \"splitting a string\""
   ]
  },
  {
   "cell_type": "code",
   "execution_count": 27,
   "id": "a8107b2e",
   "metadata": {},
   "outputs": [
    {
     "name": "stdout",
     "output_type": "stream",
     "text": [
      "['splitting', 'a', 'string']\n"
     ]
    }
   ],
   "source": [
    "print(s.split())"
   ]
  },
  {
   "cell_type": "code",
   "execution_count": 3,
   "id": "bfbe6632",
   "metadata": {},
   "outputs": [],
   "source": [
    "## 2. Use .format() to print the following string. \n",
    "\n",
    "### Output should be: The diameter of Earth is 12742 kilometers."
   ]
  },
  {
   "cell_type": "code",
   "execution_count": 39,
   "id": "5bac1e63",
   "metadata": {},
   "outputs": [],
   "source": [
    "planet = \"Jupyter\"\n",
    "diameter = 142984"
   ]
  },
  {
   "cell_type": "code",
   "execution_count": 41,
   "id": "d3fbc9af",
   "metadata": {},
   "outputs": [
    {
     "name": "stdout",
     "output_type": "stream",
     "text": [
      "The diameter of Earth is 142984 kilometeres\n"
     ]
    }
   ],
   "source": [
    "print(\"The diameter of {planet} is {distance} kilometeres\".format(planet=\"Earth\",distance=142984))\n"
   ]
  },
  {
   "cell_type": "code",
   "execution_count": 42,
   "id": "623d18ff",
   "metadata": {},
   "outputs": [],
   "source": [
    "d = {'k1':[1,2,3,{'tricky':['oh','man','inception',{'target':[1,2,3,'hey there!']}]}]}\n"
   ]
  },
  {
   "cell_type": "code",
   "execution_count": 43,
   "id": "738fed4c",
   "metadata": {},
   "outputs": [
    {
     "name": "stdout",
     "output_type": "stream",
     "text": [
      "hey there!\n"
     ]
    }
   ],
   "source": [
    "print(d['k1'][3]['tricky'][3]['target'][3])\n"
   ]
  },
  {
   "cell_type": "code",
   "execution_count": 31,
   "id": "38789b3d",
   "metadata": {},
   "outputs": [],
   "source": [
    "import numpy as np\n"
   ]
  },
  {
   "cell_type": "code",
   "execution_count": 32,
   "id": "13bfabb7",
   "metadata": {},
   "outputs": [],
   "source": [
    "## 4.1 Create an array of 10 zeros? \n",
    "## 4.2 Create an array of 10 fives?"
   ]
  },
  {
   "cell_type": "code",
   "execution_count": 33,
   "id": "c4d911e7",
   "metadata": {},
   "outputs": [
    {
     "data": {
      "text/plain": [
       "array([0., 0., 0., 0., 0., 0., 0., 0., 0., 0.])"
      ]
     },
     "execution_count": 33,
     "metadata": {},
     "output_type": "execute_result"
    }
   ],
   "source": [
    "np.zeros(10)\n"
   ]
  },
  {
   "cell_type": "code",
   "execution_count": 34,
   "id": "a99f3fdd",
   "metadata": {},
   "outputs": [
    {
     "data": {
      "text/plain": [
       "array([5., 5., 5., 5., 5., 5., 5., 5., 5., 5.])"
      ]
     },
     "execution_count": 34,
     "metadata": {},
     "output_type": "execute_result"
    }
   ],
   "source": [
    "np.ones(10)*5\n"
   ]
  },
  {
   "cell_type": "code",
   "execution_count": 35,
   "id": "10ca5c0a",
   "metadata": {},
   "outputs": [],
   "source": [
    "## 5. Create an array of all the even integers from 20 to 35"
   ]
  },
  {
   "cell_type": "code",
   "execution_count": 37,
   "id": "525b681f",
   "metadata": {},
   "outputs": [
    {
     "name": "stdout",
     "output_type": "stream",
     "text": [
      "[21 23 25 27 29 31 33 35 37]\n"
     ]
    }
   ],
   "source": [
    "array=np.arange(21,38,2)\n",
    "print(array)"
   ]
  },
  {
   "cell_type": "code",
   "execution_count": 38,
   "id": "0ee9f33d",
   "metadata": {},
   "outputs": [],
   "source": [
    "## 6. Create a 3x3 matrix with values ranging from 0 to 8"
   ]
  },
  {
   "cell_type": "code",
   "execution_count": 44,
   "id": "7f46d31b",
   "metadata": {},
   "outputs": [
    {
     "name": "stdout",
     "output_type": "stream",
     "text": [
      "[[0 1 2]\n",
      " [3 4 5]\n",
      " [6 7 8]]\n"
     ]
    }
   ],
   "source": [
    "array1=np.arange(0,9).reshape(3,3)\n",
    "print(array1)"
   ]
  },
  {
   "cell_type": "code",
   "execution_count": 45,
   "id": "b1ec0c86",
   "metadata": {},
   "outputs": [],
   "source": [
    "## 7. Concatenate a and b \n",
    "## a = np.array([1, 2, 3]), b = np.array([4, 5, 6])"
   ]
  },
  {
   "cell_type": "code",
   "execution_count": 46,
   "id": "600feb1c",
   "metadata": {},
   "outputs": [
    {
     "name": "stdout",
     "output_type": "stream",
     "text": [
      "[1 2 3 4 5 6]\n"
     ]
    }
   ],
   "source": [
    "a = np.array([1, 2, 3])\n",
    "b = np.array([4, 5, 6])\n",
    "c=np.concatenate((a,b),axis=0)\n",
    "print(c)"
   ]
  },
  {
   "cell_type": "code",
   "execution_count": 20,
   "id": "d2a7e962",
   "metadata": {},
   "outputs": [],
   "source": [
    "# Pandas\n",
    "## 8. Create a dataframe with 3 rows and 2 columns"
   ]
  },
  {
   "cell_type": "code",
   "execution_count": 47,
   "id": "acd495c6",
   "metadata": {},
   "outputs": [
    {
     "name": "stdout",
     "output_type": "stream",
     "text": [
      "          name  age\n",
      "0  logeshwaran    1\n",
      "1      bharath    2\n",
      "2           vj    3\n",
      "3         yash    4\n",
      "4          jag    5\n"
     ]
    }
   ],
   "source": [
    "import pandas as pd\n",
    "data=[[\"logeshwaran\",1],[\"bharath\",2],[\"vj\",3],[\"yash\",4],[\"jag\",5]]\n",
    "data1=pd.DataFrame(data,columns=[\"name\",\"age\"])\n",
    "print(data1)"
   ]
  },
  {
   "cell_type": "code",
   "execution_count": 48,
   "id": "7bcfc743",
   "metadata": {},
   "outputs": [],
   "source": [
    "## 9. Generate the series of dates from 1st Jan, 2023 to 10th Feb, 2023"
   ]
  },
  {
   "cell_type": "code",
   "execution_count": 49,
   "id": "5cf3768b",
   "metadata": {},
   "outputs": [
    {
     "name": "stdout",
     "output_type": "stream",
     "text": [
      "DatetimeIndex(['2023-01-01 00:00:00', '2023-01-01 05:00:00',\n",
      "               '2023-01-01 10:00:00', '2023-01-01 15:00:00',\n",
      "               '2023-01-01 20:00:00', '2023-01-02 01:00:00',\n",
      "               '2023-01-02 06:00:00', '2023-01-02 11:00:00',\n",
      "               '2023-01-02 16:00:00', '2023-01-02 21:00:00',\n",
      "               ...\n",
      "               '2023-09-30 02:00:00', '2023-09-30 07:00:00',\n",
      "               '2023-09-30 12:00:00', '2023-09-30 17:00:00',\n",
      "               '2023-09-30 22:00:00', '2023-10-01 03:00:00',\n",
      "               '2023-10-01 08:00:00', '2023-10-01 13:00:00',\n",
      "               '2023-10-01 18:00:00', '2023-10-01 23:00:00'],\n",
      "              dtype='datetime64[ns]', length=1316, freq='5H')\n"
     ]
    }
   ],
   "source": [
    "data4=pd.date_range(start=\"1-01-2023\",end=\"10-02-2023\",freq=\"5h\")\n",
    "print(data4)"
   ]
  },
  {
   "cell_type": "code",
   "execution_count": 50,
   "id": "dc91b32e",
   "metadata": {},
   "outputs": [],
   "source": [
    "## 10. Create 2D list to DataFrame\n",
    "\n",
    "lists = [[1, 'logesh', 22],\n",
    "         [2, 'waran', 25],\n",
    "         [3, 'bahbg', 24]]"
   ]
  },
  {
   "cell_type": "code",
   "execution_count": 51,
   "id": "acefcb93",
   "metadata": {},
   "outputs": [
    {
     "name": "stdout",
     "output_type": "stream",
     "text": [
      "   s.no    Name  marks\n",
      "0     1  logesh     22\n",
      "1     2   waran     25\n",
      "2     3   bahbg     24\n"
     ]
    }
   ],
   "source": [
    "data2=pd.DataFrame(lists,columns=[\"s.no\",\"Name\",\"marks\"])\n",
    "print(data2)"
   ]
  },
  {
   "cell_type": "code",
   "execution_count": null,
   "id": "8ad3fa20",
   "metadata": {},
   "outputs": [],
   "source": []
  }
 ],
 "metadata": {
  "kernelspec": {
   "display_name": "Python 3",
   "language": "python",
   "name": "python3"
  },
  "language_info": {
   "codemirror_mode": {
    "name": "ipython",
    "version": 3
   },
   "file_extension": ".py",
   "mimetype": "text/x-python",
   "name": "python",
   "nbconvert_exporter": "python",
   "pygments_lexer": "ipython3",
   "version": "3.8.8"
  }
 },
 "nbformat": 4,
 "nbformat_minor": 5
}
